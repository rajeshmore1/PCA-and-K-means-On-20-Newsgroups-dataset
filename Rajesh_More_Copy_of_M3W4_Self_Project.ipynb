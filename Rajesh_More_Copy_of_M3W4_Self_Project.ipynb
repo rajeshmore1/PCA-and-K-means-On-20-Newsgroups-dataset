{
  "nbformat": 4,
  "nbformat_minor": 0,
  "metadata": {
    "kernelspec": {
      "display_name": "Python 3",
      "language": "python",
      "name": "python3"
    },
    "language_info": {
      "codemirror_mode": {
        "name": "ipython",
        "version": 3
      },
      "file_extension": ".py",
      "mimetype": "text/x-python",
      "name": "python",
      "nbconvert_exporter": "python",
      "pygments_lexer": "ipython3",
      "version": "3.7.1"
    },
    "colab": {
      "name": "Rajesh More-Copy of M3W4 - Self Project.ipynb",
      "provenance": [],
      "collapsed_sections": [],
      "include_colab_link": true
    }
  },
  "cells": [
    {
      "cell_type": "markdown",
      "metadata": {
        "id": "view-in-github",
        "colab_type": "text"
      },
      "source": [
        "<a href=\"https://colab.research.google.com/github/rajeshmore1/PCA-and-K-means-On-20-Newsgroups-dataset/blob/main/Rajesh_More_Copy_of_M3W4_Self_Project.ipynb\" target=\"_parent\"><img src=\"https://colab.research.google.com/assets/colab-badge.svg\" alt=\"Open In Colab\"/></a>"
      ]
    },
    {
      "cell_type": "markdown",
      "metadata": {
        "id": "PYsTFWXYjCxF"
      },
      "source": [
        "# <u><b> Objective : This task requires you to build text clusters and report whether these clusters make sense. </b></u>\n",
        "\n",
        "* ###  For this clustering project on text, you will use a dataset named 20newsgroup. This is available in sklearn.datasets. You can use the code given below in the code cells to fetch the data.\n",
        "\n",
        "* ### Next you need to run a TFIDFVectorizer on the sentences to obtain a document-word sparse matrix. Use this array as your $X$.\n",
        "\n",
        "* ### Once you have got your array, you can apply different clustering techniques such as K-Means clustering and Hierarchical clustering to obtain meaningful clusters. Check if these clusters seem relevant and well separated. \n",
        "\n",
        "* ### Finally you can use dimensionality reduction technqiues such as PCA or t-SNE(you can read about it and use it straight away) to come up with two dimensional visualization of these clusters. \n",
        "\n",
        "\n",
        "\n",
        "\n",
        "\n"
      ]
    },
    {
      "cell_type": "markdown",
      "metadata": {
        "id": "Aqyh98juuigZ"
      },
      "source": [
        "### In your <b>Capstone project</b>, you will perform clustering on documents to find relevant themes/topics. We call this Topic Modeling. There are different algorithms for building a topic model such as Latent Dirichlet Allocation (LDA), NMF etc. For now you are only expected to use the clustering algorithms discussed so far."
      ]
    },
    {
      "cell_type": "code",
      "metadata": {
        "id": "DLMbD3HwOgIb"
      },
      "source": [
        "from sklearn.naive_bayes import MultinomialNB\r\n",
        "from sklearn.naive_bayes import BernoulliNB\r\n",
        "from sklearn.pipeline import Pipeline\r\n",
        "from sklearn.feature_extraction.text import TfidfVectorizer\r\n",
        "from sklearn.feature_extraction.text import TfidfTransformer\r\n",
        "from sklearn.linear_model import SGDClassifier\r\n",
        "from sklearn.linear_model import LogisticRegression\r\n",
        "from nltk.stem.snowball import SnowballStemmer\r\n",
        "from nltk import word_tokenize          \r\n",
        "from nltk.stem import WordNetLemmatizer\r\n",
        "from sklearn.neighbors import KNeighborsClassifier\r\n",
        "from sklearn.ensemble import RandomForestClassifier\r\n",
        "import numpy as np\r\n",
        "\r\n",
        "import matplotlib.pyplot as plt\r\n",
        "%matplotlib inline\r\n",
        "\r\n",
        "import nltk\r\n",
        "import pandas as pd\r\n",
        "import random\r\n",
        "from sklearn.model_selection import GridSearchCV\r\n",
        "from sklearn.cluster import KMeans\r\n",
        "from sklearn.datasets import fetch_20newsgroups"
      ],
      "execution_count": 38,
      "outputs": []
    },
    {
      "cell_type": "code",
      "metadata": {
        "id": "fzR-pF_7VpPU"
      },
      "source": [
        "dataset = fetch_20newsgroups(download_if_missing=True,remove = ('headers', 'footers', 'quotes'))"
      ],
      "execution_count": 27,
      "outputs": []
    },
    {
      "cell_type": "code",
      "metadata": {
        "colab": {
          "base_uri": "https://localhost:8080/"
        },
        "id": "Kc5Ku7S0Vu4E",
        "outputId": "4998f957-273c-43bf-8418-3b3e802da9ab"
      },
      "source": [
        "print('Training data size:', len(dataset['data']))\r\n"
      ],
      "execution_count": 7,
      "outputs": [
        {
          "output_type": "stream",
          "text": [
            "Training data size: 11314\n"
          ],
          "name": "stdout"
        }
      ]
    },
    {
      "cell_type": "code",
      "metadata": {
        "colab": {
          "base_uri": "https://localhost:8080/"
        },
        "id": "wjW0wCycVy56",
        "outputId": "4e745cdc-3c4d-459a-8215-bd8ea6853ee6"
      },
      "source": [
        "len(dataset['target'])\r\n"
      ],
      "execution_count": 8,
      "outputs": [
        {
          "output_type": "execute_result",
          "data": {
            "text/plain": [
              "11314"
            ]
          },
          "metadata": {
            "tags": []
          },
          "execution_count": 8
        }
      ]
    },
    {
      "cell_type": "code",
      "metadata": {
        "colab": {
          "base_uri": "https://localhost:8080/"
        },
        "id": "Q72UDsgIV9zq",
        "outputId": "24eb7f61-6391-4382-9276-3d773cc51afc"
      },
      "source": [
        "dataset.target_names\r\n"
      ],
      "execution_count": 9,
      "outputs": [
        {
          "output_type": "execute_result",
          "data": {
            "text/plain": [
              "['alt.atheism',\n",
              " 'comp.graphics',\n",
              " 'comp.os.ms-windows.misc',\n",
              " 'comp.sys.ibm.pc.hardware',\n",
              " 'comp.sys.mac.hardware',\n",
              " 'comp.windows.x',\n",
              " 'misc.forsale',\n",
              " 'rec.autos',\n",
              " 'rec.motorcycles',\n",
              " 'rec.sport.baseball',\n",
              " 'rec.sport.hockey',\n",
              " 'sci.crypt',\n",
              " 'sci.electronics',\n",
              " 'sci.med',\n",
              " 'sci.space',\n",
              " 'soc.religion.christian',\n",
              " 'talk.politics.guns',\n",
              " 'talk.politics.mideast',\n",
              " 'talk.politics.misc',\n",
              " 'talk.religion.misc']"
            ]
          },
          "metadata": {
            "tags": []
          },
          "execution_count": 9
        }
      ]
    },
    {
      "cell_type": "code",
      "metadata": {
        "colab": {
          "base_uri": "https://localhost:8080/"
        },
        "id": "w05qV7GMWBmn",
        "outputId": "e8511dc9-3357-47d0-d3c0-a64ba6e6a7b2"
      },
      "source": [
        "# Finding frequency of each category\r\n",
        "targets, frequency = np.unique(dataset.target, return_counts=True)\r\n",
        "targets, frequency"
      ],
      "execution_count": 17,
      "outputs": [
        {
          "output_type": "execute_result",
          "data": {
            "text/plain": [
              "(array([ 0,  1,  2,  3,  4,  5,  6,  7,  8,  9, 10, 11, 12, 13, 14, 15, 16,\n",
              "        17, 18, 19]),\n",
              " array([480, 584, 591, 590, 578, 593, 585, 594, 598, 597, 600, 595, 591,\n",
              "        594, 593, 599, 546, 564, 465, 377]))"
            ]
          },
          "metadata": {
            "tags": []
          },
          "execution_count": 17
        }
      ]
    },
    {
      "cell_type": "code",
      "metadata": {
        "colab": {
          "base_uri": "https://localhost:8080/"
        },
        "id": "zkh7GyCnWKRb",
        "outputId": "5c82e2a1-69a9-4cf8-eca4-9d4ff9de1848"
      },
      "source": [
        "targets_str = np.array(dataset.target_names)\r\n",
        "print(list(zip(targets_str, frequency)))"
      ],
      "execution_count": 18,
      "outputs": [
        {
          "output_type": "stream",
          "text": [
            "[('alt.atheism', 480), ('comp.graphics', 584), ('comp.os.ms-windows.misc', 591), ('comp.sys.ibm.pc.hardware', 590), ('comp.sys.mac.hardware', 578), ('comp.windows.x', 593), ('misc.forsale', 585), ('rec.autos', 594), ('rec.motorcycles', 598), ('rec.sport.baseball', 597), ('rec.sport.hockey', 600), ('sci.crypt', 595), ('sci.electronics', 591), ('sci.med', 594), ('sci.space', 593), ('soc.religion.christian', 599), ('talk.politics.guns', 546), ('talk.politics.mideast', 564), ('talk.politics.misc', 465), ('talk.religion.misc', 377)]\n"
          ],
          "name": "stdout"
        }
      ]
    },
    {
      "cell_type": "code",
      "metadata": {
        "colab": {
          "base_uri": "https://localhost:8080/",
          "height": 524
        },
        "id": "rbJZN01SWPMy",
        "outputId": "e2de96a6-7420-4ad8-f63f-53ea5e0e20ba"
      },
      "source": [
        "fig=plt.figure(figsize=(10, 5), dpi= 80, facecolor='w', edgecolor='k')\r\n",
        "plt.bar(targets_str,frequency)\r\n",
        "plt.xticks(rotation=90)\r\n",
        "plt.title('Class distribution of 20 Newsgroups Training Data')\r\n",
        "plt.xlabel('News Group')\r\n",
        "plt.ylabel('Frequency')\r\n",
        "plt.show()"
      ],
      "execution_count": 19,
      "outputs": [
        {
          "output_type": "display_data",
          "data": {
            "image/png": "[encoded data removed]",
            "text/plain": [
              "<Figure size 800x400 with 1 Axes>"
            ]
          },
          "metadata": {
            "tags": []
          }
        }
      ]
    },
    {
      "cell_type": "code",
      "metadata": {
        "colab": {
          "base_uri": "https://localhost:8080/",
          "height": 204
        },
        "id": "iJ8Pv0FZWdNY",
        "outputId": "76cc30d4-d776-4d92-da23-508832300c33"
      },
      "source": [
        "dataset_df = pd.DataFrame({'data': dataset.data, 'target': dataset.target})\r\n",
        "dataset_df.head()"
      ],
      "execution_count": 29,
      "outputs": [
        {
          "output_type": "execute_result",
          "data": {
            "text/html": [
              "<div>\n",
              "<style scoped>\n",
              "    .dataframe tbody tr th:only-of-type {\n",
              "        vertical-align: middle;\n",
              "    }\n",
              "\n",
              "    .dataframe tbody tr th {\n",
              "        vertical-align: top;\n",
              "    }\n",
              "\n",
              "    .dataframe thead th {\n",
              "        text-align: right;\n",
              "    }\n",
              "</style>\n",
              "<table border=\"1\" class=\"dataframe\">\n",
              "  <thead>\n",
              "    <tr style=\"text-align: right;\">\n",
              "      <th></th>\n",
              "      <th>data</th>\n",
              "      <th>target</th>\n",
              "    </tr>\n",
              "  </thead>\n",
              "  <tbody>\n",
              "    <tr>\n",
              "      <th>0</th>\n",
              "      <td>I was wondering if anyone out there could enli...</td>\n",
              "      <td>7</td>\n",
              "    </tr>\n",
              "    <tr>\n",
              "      <th>1</th>\n",
              "      <td>A fair number of brave souls who upgraded thei...</td>\n",
              "      <td>4</td>\n",
              "    </tr>\n",
              "    <tr>\n",
              "      <th>2</th>\n",
              "      <td>well folks, my mac plus finally gave up the gh...</td>\n",
              "      <td>4</td>\n",
              "    </tr>\n",
              "    <tr>\n",
              "      <th>3</th>\n",
              "      <td>\\nDo you have Weitek's address/phone number?  ...</td>\n",
              "      <td>1</td>\n",
              "    </tr>\n",
              "    <tr>\n",
              "      <th>4</th>\n",
              "      <td>From article &lt;C5owCB.n3p@world.std.com&gt;, by to...</td>\n",
              "      <td>14</td>\n",
              "    </tr>\n",
              "  </tbody>\n",
              "</table>\n",
              "</div>"
            ],
            "text/plain": [
              "                                                data  target\n",
              "0  I was wondering if anyone out there could enli...       7\n",
              "1  A fair number of brave souls who upgraded thei...       4\n",
              "2  well folks, my mac plus finally gave up the gh...       4\n",
              "3  \\nDo you have Weitek's address/phone number?  ...       1\n",
              "4  From article <C5owCB.n3p@world.std.com>, by to...      14"
            ]
          },
          "metadata": {
            "tags": []
          },
          "execution_count": 29
        }
      ]
    },
    {
      "cell_type": "code",
      "metadata": {
        "colab": {
          "base_uri": "https://localhost:8080/",
          "height": 204
        },
        "id": "17iZ1O37Wo4Z",
        "outputId": "b6c01fab-dc7f-419b-d1e0-1b10d36d347b"
      },
      "source": [
        "# Text preprocessing steps - remove numbers, captial letters and punctuation\r\n",
        "import re\r\n",
        "import string\r\n",
        "\r\n",
        "alphanumeric = lambda x: re.sub(r\"\"\"\\w*\\d\\w*\"\"\", ' ', x)\r\n",
        "punc_lower = lambda x: re.sub('[%s]' % re.escape(string.punctuation), ' ', x.lower())\r\n",
        "\r\n",
        "dataset_df['data'] = dataset_df.data.map(alphanumeric).map(punc_lower)\r\n",
        "dataset_df.head()"
      ],
      "execution_count": 30,
      "outputs": [
        {
          "output_type": "execute_result",
          "data": {
            "text/html": [
              "<div>\n",
              "<style scoped>\n",
              "    .dataframe tbody tr th:only-of-type {\n",
              "        vertical-align: middle;\n",
              "    }\n",
              "\n",
              "    .dataframe tbody tr th {\n",
              "        vertical-align: top;\n",
              "    }\n",
              "\n",
              "    .dataframe thead th {\n",
              "        text-align: right;\n",
              "    }\n",
              "</style>\n",
              "<table border=\"1\" class=\"dataframe\">\n",
              "  <thead>\n",
              "    <tr style=\"text-align: right;\">\n",
              "      <th></th>\n",
              "      <th>data</th>\n",
              "      <th>target</th>\n",
              "    </tr>\n",
              "  </thead>\n",
              "  <tbody>\n",
              "    <tr>\n",
              "      <th>0</th>\n",
              "      <td>i was wondering if anyone out there could enli...</td>\n",
              "      <td>7</td>\n",
              "    </tr>\n",
              "    <tr>\n",
              "      <th>1</th>\n",
              "      <td>a fair number of brave souls who upgraded thei...</td>\n",
              "      <td>4</td>\n",
              "    </tr>\n",
              "    <tr>\n",
              "      <th>2</th>\n",
              "      <td>well folks  my mac plus finally gave up the gh...</td>\n",
              "      <td>4</td>\n",
              "    </tr>\n",
              "    <tr>\n",
              "      <th>3</th>\n",
              "      <td>\\ndo you have weitek s address phone number   ...</td>\n",
              "      <td>1</td>\n",
              "    </tr>\n",
              "    <tr>\n",
              "      <th>4</th>\n",
              "      <td>from article      world std com   by tombaker ...</td>\n",
              "      <td>14</td>\n",
              "    </tr>\n",
              "  </tbody>\n",
              "</table>\n",
              "</div>"
            ],
            "text/plain": [
              "                                                data  target\n",
              "0  i was wondering if anyone out there could enli...       7\n",
              "1  a fair number of brave souls who upgraded thei...       4\n",
              "2  well folks  my mac plus finally gave up the gh...       4\n",
              "3  \\ndo you have weitek s address phone number   ...       1\n",
              "4  from article      world std com   by tombaker ...      14"
            ]
          },
          "metadata": {
            "tags": []
          },
          "execution_count": 30
        }
      ]
    },
    {
      "cell_type": "code",
      "metadata": {
        "colab": {
          "base_uri": "https://localhost:8080/"
        },
        "id": "8LdYdzH5Y3SN",
        "outputId": "f791bfa1-1561-4f30-db61-bbf7d14eab39"
      },
      "source": [
        "dataset_df.data"
      ],
      "execution_count": 31,
      "outputs": [
        {
          "output_type": "execute_result",
          "data": {
            "text/plain": [
              "0        i was wondering if anyone out there could enli...\n",
              "1        a fair number of brave souls who upgraded thei...\n",
              "2        well folks  my mac plus finally gave up the gh...\n",
              "3        \\ndo you have weitek s address phone number   ...\n",
              "4        from article      world std com   by tombaker ...\n",
              "                               ...                        \n",
              "11309    dn  from  nyeda cnsvax uwec edu  david nye \\nd...\n",
              "11310    i have a  very old  mac   and a mac plus  both...\n",
              "11311    i just installed a     cpu in a clone motherbo...\n",
              "11312    \\nwouldn t this require a hyper sphere   in   ...\n",
              "11313    stolen from pasadena between     and     pm on...\n",
              "Name: data, Length: 11314, dtype: object"
            ]
          },
          "metadata": {
            "tags": []
          },
          "execution_count": 31
        }
      ]
    },
    {
      "cell_type": "markdown",
      "metadata": {
        "id": "sX8awy-afwEu"
      },
      "source": [
        "# K means Clustering:"
      ]
    },
    {
      "cell_type": "code",
      "metadata": {
        "id": "nk3rVfxOfysq"
      },
      "source": [
        "texts = dataset.data # Extract text\r\n",
        "target = dataset.target # Extract target"
      ],
      "execution_count": 32,
      "outputs": []
    },
    {
      "cell_type": "code",
      "metadata": {
        "id": "YMdwpynNf42K"
      },
      "source": [
        "vectorizer = TfidfVectorizer(stop_words='english')\r\n",
        "X = vectorizer.fit_transform(texts)\r\n"
      ],
      "execution_count": 33,
      "outputs": []
    },
    {
      "cell_type": "code",
      "metadata": {
        "colab": {
          "base_uri": "https://localhost:8080/"
        },
        "id": "fbEHz3Uff5lg",
        "outputId": "7e1fdc08-bc4a-42c3-e2d2-851d53bcfceb"
      },
      "source": [
        "number_of_clusters = 20\r\n",
        "\r\n",
        "\r\n",
        "model = KMeans(n_clusters=number_of_clusters, \r\n",
        "               init='k-means++', \r\n",
        "               max_iter=100, # Maximum number of iterations of the k-means algorithm for a single run.\r\n",
        "               n_init=1)  # Number of time the k-means algorithm will be run with different centroid seeds. The final results will be the best output of n_init consecutive runs in terms of inertia.\r\n",
        "\r\n",
        "model.fit(X)"
      ],
      "execution_count": 34,
      "outputs": [
        {
          "output_type": "execute_result",
          "data": {
            "text/plain": [
              "KMeans(algorithm='auto', copy_x=True, init='k-means++', max_iter=100,\n",
              "       n_clusters=20, n_init=1, n_jobs=None, precompute_distances='auto',\n",
              "       random_state=None, tol=0.0001, verbose=0)"
            ]
          },
          "metadata": {
            "tags": []
          },
          "execution_count": 34
        }
      ]
    },
    {
      "cell_type": "code",
      "metadata": {
        "id": "qkNhzds6f-QY"
      },
      "source": [
        "order_centroids = model.cluster_centers_.argsort()[:, ::-1]\r\n",
        "terms = vectorizer.get_feature_names()"
      ],
      "execution_count": 35,
      "outputs": []
    },
    {
      "cell_type": "code",
      "metadata": {
        "colab": {
          "base_uri": "https://localhost:8080/"
        },
        "id": "IJ1i1F9DgIcD",
        "outputId": "ad045f7c-6b37-4233-9100-18b4b41de43f"
      },
      "source": [
        "for i in range(number_of_clusters):\r\n",
        "    print(\"Cluster %d:\" % i),\r\n",
        "    for ind in order_centroids[i, :10]:\r\n",
        "        print(' %s' % terms[ind])\r\n"
      ],
      "execution_count": 36,
      "outputs": [
        {
          "output_type": "stream",
          "text": [
            "Cluster 0:\n",
            " pregnancy\n",
            " education\n",
            " teenage\n",
            " fascinated\n",
            " guess\n",
            " abstinence\n",
            " contraceptive\n",
            " simplistic\n",
            " proportion\n",
            " decreased\n",
            "Cluster 1:\n",
            " ssetroot\n",
            " tvtwm\n",
            " sunkbd\n",
            " patch\n",
            " starts\n",
            " install\n",
            " keyboard\n",
            " virtualdesktopbackground\n",
            " virtualdesktopbackgroundpixmap\n",
            " pagedown\n",
            "Cluster 2:\n",
            " apple\n",
            " 4mb\n",
            " simms\n",
            " account\n",
            " design\n",
            " service\n",
            " fool\n",
            " lc\n",
            " generally\n",
            " close\n",
            "Cluster 3:\n",
            " manadatory\n",
            " federal\n",
            " analogy\n",
            " classes\n",
            " insurance\n",
            " safety\n",
            " carry\n",
            " gun\n",
            " credentials\n",
            " abridge\n",
            "Cluster 4:\n",
            " spiritual\n",
            " truth\n",
            " christianity\n",
            " things\n",
            " choice\n",
            " discussions\n",
            " evidence\n",
            " daddy\n",
            " religions\n",
            " false\n",
            "Cluster 5:\n",
            " cystic\n",
            " menopause\n",
            " estrogen\n",
            " sybase\n",
            " pleasures\n",
            " lump\n",
            " big\n",
            " caffeine\n",
            " cigarettes\n",
            " thrilled\n",
            "Cluster 6:\n",
            " just\n",
            " like\n",
            " know\n",
            " don\n",
            " people\n",
            " think\n",
            " does\n",
            " use\n",
            " thanks\n",
            " good\n",
            "Cluster 7:\n",
            " cg3\n",
            " sparcclassic\n",
            " 1152x900\n",
            " expects\n",
            " guessing\n",
            " 1024x768\n",
            " x11r5\n",
            " resolution\n",
            " guess\n",
            " version\n",
            "Cluster 8:\n",
            " drivers\n",
            " windows\n",
            " ultra\n",
            " bit\n",
            " gateway\n",
            " ati\n",
            " 16\n",
            " pro\n",
            " bus\n",
            " dx2\n",
            "Cluster 9:\n",
            " 15amp\n",
            " estimation\n",
            " mazda\n",
            " converting\n",
            " electric\n",
            " wire\n",
            " table\n",
            " range\n",
            " carry\n",
            " friend\n",
            "Cluster 10:\n",
            " mode\n",
            " svga\n",
            " tiang\n",
            " memory\n",
            " vesa\n",
            " vga\n",
            " image\n",
            " affff\n",
            " fast\n",
            " video\n",
            "Cluster 11:\n",
            " riot\n",
            " farm\n",
            " weekend\n",
            " festivities\n",
            " bluffs\n",
            " veishea\n",
            " 45k\n",
            " omaha\n",
            " 50k\n",
            " concert\n",
            "Cluster 12:\n",
            " mpeg\n",
            " viewer\n",
            " cov\n",
            " cch\n",
            " ajackson\n",
            " jackson\n",
            " alan\n",
            " ac\n",
            " windows\n",
            " uk\n",
            "Cluster 13:\n",
            " cursor\n",
            " cursors\n",
            " defining\n",
            " widgets\n",
            " busy\n",
            " complicated\n",
            " shown\n",
            " expected\n",
            " application\n",
            " crosswire\n",
            "Cluster 14:\n",
            " savard\n",
            " denis\n",
            " serge\n",
            " squat\n",
            " cordially\n",
            " lineup\n",
            " rm\n",
            " likes\n",
            " syndrome\n",
            " stay\n",
            "Cluster 15:\n",
            " elements\n",
            " 00000\n",
            " celestial\n",
            " element\n",
            " current\n",
            " 57\n",
            " updated\n",
            " shuttle\n",
            " daily\n",
            " sets\n",
            "Cluster 16:\n",
            " ich344\n",
            " controller\n",
            " zam\n",
            " zam001\n",
            " djukfa11\n",
            " floppydiskdrives\n",
            " manufacturors\n",
            " harddiskdrive\n",
            " 256kb\n",
            " juelich\n",
            "Cluster 17:\n",
            " system7\n",
            " deskjet\n",
            " grappler\n",
            " ls\n",
            " swa\n",
            " print\n",
            " hp\n",
            " ver\n",
            " orange\n",
            " use\n",
            "Cluster 18:\n",
            " votes\n",
            " pts\n",
            " ihl\n",
            " retired\n",
            " rheaume\n",
            " wamsley\n",
            " team\n",
            " manon\n",
            " clint\n",
            " hayward\n",
            "Cluster 19:\n",
            " shareware\n",
            " bbs\n",
            " wildcat\n",
            " obdis\n",
            " _documentation_\n",
            " 2915\n",
            " disclaimed\n",
            " version\n",
            " 596\n",
            " legit\n"
          ],
          "name": "stdout"
        }
      ]
    },
    {
      "cell_type": "code",
      "metadata": {
        "colab": {
          "base_uri": "https://localhost:8080/"
        },
        "id": "HnGKVfxOgLln",
        "outputId": "20a2b8c9-f7dd-44ef-9b59-97b86de688c6"
      },
      "source": [
        "print (texts[400])\r\n"
      ],
      "execution_count": 37,
      "outputs": [
        {
          "output_type": "stream",
          "text": [
            "Isn't Clipper a trademark of Fairchild Semiconductor?\n"
          ],
          "name": "stdout"
        }
      ]
    },
    {
      "cell_type": "code",
      "metadata": {
        "colab": {
          "base_uri": "https://localhost:8080/"
        },
        "id": "ucB7Su2KgQ6Z",
        "outputId": "58474a29-0956-4423-affa-1cfb6f5309cd"
      },
      "source": [
        "X = vectorizer.transform([texts[400]])\r\n",
        "\r\n",
        "cluster = model.predict(X)[0]\r\n",
        "\r\n",
        "print(\"Text belongs to cluster number {0}\".format(cluster))"
      ],
      "execution_count": 38,
      "outputs": [
        {
          "output_type": "stream",
          "text": [
            "Text belongs to cluster number 6\n"
          ],
          "name": "stdout"
        }
      ]
    },
    {
      "cell_type": "code",
      "metadata": {
        "colab": {
          "base_uri": "https://localhost:8080/"
        },
        "id": "sLJ0HShbgX_4",
        "outputId": "5a198696-9e72-4682-b486-2a514d9a10d3"
      },
      "source": [
        "for ind in order_centroids[cluster, :10]:\r\n",
        "    print(' %s' % terms[ind])"
      ],
      "execution_count": 39,
      "outputs": [
        {
          "output_type": "stream",
          "text": [
            " just\n",
            " like\n",
            " know\n",
            " don\n",
            " people\n",
            " think\n",
            " does\n",
            " use\n",
            " thanks\n",
            " good\n"
          ],
          "name": "stdout"
        }
      ]
    },
    {
      "cell_type": "code",
      "metadata": {
        "colab": {
          "base_uri": "https://localhost:8080/",
          "height": 336
        },
        "id": "e8E1vHh3pbVO",
        "outputId": "22c69cae-d7b0-4dff-e99e-06a3f5ec5ef6"
      },
      "source": [
        "count_target = dataset_df['target'].value_counts()\r\n",
        "\r\n",
        "plt.figure(figsize=(8,4))\r\n",
        "sns.barplot(count_target.index, count_target.values, alpha=0.8)\r\n",
        "plt.ylabel('Number of Occurrences', fontsize=12)\r\n",
        "plt.xlabel('Target', fontsize=12);"
      ],
      "execution_count": 43,
      "outputs": [
        {
          "output_type": "stream",
          "text": [
            "/usr/local/lib/python3.6/dist-packages/seaborn/_decorators.py:43: FutureWarning: Pass the following variables as keyword args: x, y. From version 0.12, the only valid positional argument will be `data`, and passing other arguments without an explicit keyword will result in an error or misinterpretation.\n",
            "  FutureWarning\n"
          ],
          "name": "stderr"
        },
        {
          "output_type": "display_data",
          "data": {
            "image/png": "[encoded data removed]",
            "text/plain": [
              "<Figure size 576x288 with 1 Axes>"
            ]
          },
          "metadata": {
            "tags": [],
            "needs_background": "light"
          }
        }
      ]
    },
    {
      "cell_type": "markdown",
      "metadata": {
        "id": "l4Kh8QJiRruX"
      },
      "source": [
        "# PCA"
      ]
    },
    {
      "cell_type": "code",
      "metadata": {
        "id": "5rXBECAuqIQL",
        "colab": {
          "base_uri": "https://localhost:8080/",
          "height": 204
        },
        "outputId": "cf9b8e53-54f4-47ef-ed6b-cf8eff928e6d"
      },
      "source": [
        "dataset_df.head(5)"
      ],
      "execution_count": 44,
      "outputs": [
        {
          "output_type": "execute_result",
          "data": {
            "text/html": [
              "<div>\n",
              "<style scoped>\n",
              "    .dataframe tbody tr th:only-of-type {\n",
              "        vertical-align: middle;\n",
              "    }\n",
              "\n",
              "    .dataframe tbody tr th {\n",
              "        vertical-align: top;\n",
              "    }\n",
              "\n",
              "    .dataframe thead th {\n",
              "        text-align: right;\n",
              "    }\n",
              "</style>\n",
              "<table border=\"1\" class=\"dataframe\">\n",
              "  <thead>\n",
              "    <tr style=\"text-align: right;\">\n",
              "      <th></th>\n",
              "      <th>data</th>\n",
              "      <th>target</th>\n",
              "    </tr>\n",
              "  </thead>\n",
              "  <tbody>\n",
              "    <tr>\n",
              "      <th>0</th>\n",
              "      <td>i was wondering if anyone out there could enli...</td>\n",
              "      <td>7</td>\n",
              "    </tr>\n",
              "    <tr>\n",
              "      <th>1</th>\n",
              "      <td>a fair number of brave souls who upgraded thei...</td>\n",
              "      <td>4</td>\n",
              "    </tr>\n",
              "    <tr>\n",
              "      <th>2</th>\n",
              "      <td>well folks  my mac plus finally gave up the gh...</td>\n",
              "      <td>4</td>\n",
              "    </tr>\n",
              "    <tr>\n",
              "      <th>3</th>\n",
              "      <td>\\ndo you have weitek s address phone number   ...</td>\n",
              "      <td>1</td>\n",
              "    </tr>\n",
              "    <tr>\n",
              "      <th>4</th>\n",
              "      <td>from article      world std com   by tombaker ...</td>\n",
              "      <td>14</td>\n",
              "    </tr>\n",
              "  </tbody>\n",
              "</table>\n",
              "</div>"
            ],
            "text/plain": [
              "                                                data  target\n",
              "0  i was wondering if anyone out there could enli...       7\n",
              "1  a fair number of brave souls who upgraded thei...       4\n",
              "2  well folks  my mac plus finally gave up the gh...       4\n",
              "3  \\ndo you have weitek s address phone number   ...       1\n",
              "4  from article      world std com   by tombaker ...      14"
            ]
          },
          "metadata": {
            "tags": []
          },
          "execution_count": 44
        }
      ]
    },
    {
      "cell_type": "code",
      "metadata": {
        "colab": {
          "base_uri": "https://localhost:8080/",
          "height": 390
        },
        "id": "lGUiL9u-SfGv",
        "outputId": "b5dc841e-69cb-43a9-86d9-1aae2b405111"
      },
      "source": [
        "dataset_df = dataset_df.drop_duplicates()\r\n",
        "dataset_df = dataset_df.reset_index(drop=True)\r\n",
        "dataset_df.describe(include='all')"
      ],
      "execution_count": 46,
      "outputs": [
        {
          "output_type": "execute_result",
          "data": {
            "text/html": [
              "<div>\n",
              "<style scoped>\n",
              "    .dataframe tbody tr th:only-of-type {\n",
              "        vertical-align: middle;\n",
              "    }\n",
              "\n",
              "    .dataframe tbody tr th {\n",
              "        vertical-align: top;\n",
              "    }\n",
              "\n",
              "    .dataframe thead th {\n",
              "        text-align: right;\n",
              "    }\n",
              "</style>\n",
              "<table border=\"1\" class=\"dataframe\">\n",
              "  <thead>\n",
              "    <tr style=\"text-align: right;\">\n",
              "      <th></th>\n",
              "      <th>data</th>\n",
              "      <th>target</th>\n",
              "    </tr>\n",
              "  </thead>\n",
              "  <tbody>\n",
              "    <tr>\n",
              "      <th>count</th>\n",
              "      <td>11059</td>\n",
              "      <td>11059.000000</td>\n",
              "    </tr>\n",
              "    <tr>\n",
              "      <th>unique</th>\n",
              "      <td>10992</td>\n",
              "      <td>NaN</td>\n",
              "    </tr>\n",
              "    <tr>\n",
              "      <th>top</th>\n",
              "      <td></td>\n",
              "      <td>NaN</td>\n",
              "    </tr>\n",
              "    <tr>\n",
              "      <th>freq</th>\n",
              "      <td>20</td>\n",
              "      <td>NaN</td>\n",
              "    </tr>\n",
              "    <tr>\n",
              "      <th>mean</th>\n",
              "      <td>NaN</td>\n",
              "      <td>9.299123</td>\n",
              "    </tr>\n",
              "    <tr>\n",
              "      <th>std</th>\n",
              "      <td>NaN</td>\n",
              "      <td>5.564178</td>\n",
              "    </tr>\n",
              "    <tr>\n",
              "      <th>min</th>\n",
              "      <td>NaN</td>\n",
              "      <td>0.000000</td>\n",
              "    </tr>\n",
              "    <tr>\n",
              "      <th>25%</th>\n",
              "      <td>NaN</td>\n",
              "      <td>5.000000</td>\n",
              "    </tr>\n",
              "    <tr>\n",
              "      <th>50%</th>\n",
              "      <td>NaN</td>\n",
              "      <td>9.000000</td>\n",
              "    </tr>\n",
              "    <tr>\n",
              "      <th>75%</th>\n",
              "      <td>NaN</td>\n",
              "      <td>14.000000</td>\n",
              "    </tr>\n",
              "    <tr>\n",
              "      <th>max</th>\n",
              "      <td>NaN</td>\n",
              "      <td>19.000000</td>\n",
              "    </tr>\n",
              "  </tbody>\n",
              "</table>\n",
              "</div>"
            ],
            "text/plain": [
              "         data        target\n",
              "count   11059  11059.000000\n",
              "unique  10992           NaN\n",
              "top                     NaN\n",
              "freq       20           NaN\n",
              "mean      NaN      9.299123\n",
              "std       NaN      5.564178\n",
              "min       NaN      0.000000\n",
              "25%       NaN      5.000000\n",
              "50%       NaN      9.000000\n",
              "75%       NaN     14.000000\n",
              "max       NaN     19.000000"
            ]
          },
          "metadata": {
            "tags": []
          },
          "execution_count": 46
        }
      ]
    },
    {
      "cell_type": "code",
      "metadata": {
        "id": "5o9CKroSUQQd"
      },
      "source": [
        "from sklearn.decomposition import PCA\r\n",
        "from sklearn.decomposition import TruncatedSVD"
      ],
      "execution_count": 52,
      "outputs": []
    },
    {
      "cell_type": "code",
      "metadata": {
        "colab": {
          "base_uri": "https://localhost:8080/"
        },
        "id": "Bn8SeGI6T7A-",
        "outputId": "3e417575-9033-4c68-8f60-dd8e977e2a43"
      },
      "source": [
        "svd = TruncatedSVD(n_components=5, n_iter=7, random_state=42)\r\n",
        "svd.fit(X)"
      ],
      "execution_count": 58,
      "outputs": [
        {
          "output_type": "stream",
          "text": [
            "/usr/local/lib/python3.6/dist-packages/sklearn/decomposition/_truncated_svd.py:194: RuntimeWarning: invalid value encountered in true_divide\n",
            "  self.explained_variance_ratio_ = exp_var / full_var\n"
          ],
          "name": "stderr"
        },
        {
          "output_type": "execute_result",
          "data": {
            "text/plain": [
              "TruncatedSVD(algorithm='randomized', n_components=5, n_iter=7, random_state=42,\n",
              "             tol=0.0)"
            ]
          },
          "metadata": {
            "tags": []
          },
          "execution_count": 58
        }
      ]
    },
    {
      "cell_type": "markdown",
      "metadata": {
        "id": "xbz796N3WK-O"
      },
      "source": [
        "# What is t-SNE?"
      ]
    },
    {
      "cell_type": "markdown",
      "metadata": {
        "id": "AOem9wdBWSjH"
      },
      "source": [
        "t-Distributed Stochastic Neighbor Embedding (t-SNE) is an unsupervised, non-linear technique primarily used for data exploration and visualizing high-dimensional data. In simpler terms, t-SNE gives you a feel or intuition of how the data is arranged in a high-dimensional space. It was developed by Laurens van der Maatens and Geoffrey Hinton in 2008."
      ]
    },
    {
      "cell_type": "code",
      "metadata": {
        "id": "iAn-1w5AYmxu"
      },
      "source": [
        "categories = ['alt.atheism', 'soc.religion.christian','comp.graphics', 'sci.med']"
      ],
      "execution_count": 65,
      "outputs": []
    },
    {
      "cell_type": "code",
      "metadata": {
        "id": "wQyr6upDWqHR"
      },
      "source": [
        "twenty_train = fetch_20newsgroups(subset='train',categories=categories, shuffle=True, random_state=42)"
      ],
      "execution_count": 66,
      "outputs": []
    },
    {
      "cell_type": "code",
      "metadata": {
        "colab": {
          "base_uri": "https://localhost:8080/"
        },
        "id": "yL7t1GEnYcZu",
        "outputId": "1a6d7857-1243-4ef6-e45f-bcb915b3f3bb"
      },
      "source": [
        "twenty_train.target_names"
      ],
      "execution_count": 67,
      "outputs": [
        {
          "output_type": "execute_result",
          "data": {
            "text/plain": [
              "['alt.atheism', 'comp.graphics', 'sci.med', 'soc.religion.christian']"
            ]
          },
          "metadata": {
            "tags": []
          },
          "execution_count": 67
        }
      ]
    },
    {
      "cell_type": "code",
      "metadata": {
        "colab": {
          "base_uri": "https://localhost:8080/"
        },
        "id": "HxHTi44QYtbb",
        "outputId": "b4f7b44d-7be1-4495-de39-8b8ce72b620e"
      },
      "source": [
        "len(twenty_train.data)"
      ],
      "execution_count": 68,
      "outputs": [
        {
          "output_type": "execute_result",
          "data": {
            "text/plain": [
              "2257"
            ]
          },
          "metadata": {
            "tags": []
          },
          "execution_count": 68
        }
      ]
    },
    {
      "cell_type": "code",
      "metadata": {
        "colab": {
          "base_uri": "https://localhost:8080/"
        },
        "id": "D2Sg8xmaYwRt",
        "outputId": "b31a27f3-127d-430e-87a1-574b0ae7eb70"
      },
      "source": [
        "len(twenty_train.filenames)"
      ],
      "execution_count": 69,
      "outputs": [
        {
          "output_type": "execute_result",
          "data": {
            "text/plain": [
              "2257"
            ]
          },
          "metadata": {
            "tags": []
          },
          "execution_count": 69
        }
      ]
    },
    {
      "cell_type": "code",
      "metadata": {
        "colab": {
          "base_uri": "https://localhost:8080/"
        },
        "id": "xjeqHVwxYzEO",
        "outputId": "f7a6fab2-08fe-475b-f0b0-21f9ac50ec16"
      },
      "source": [
        "print(\"\\n\".join(twenty_train.data[0].split(\"\\n\")[:3]))"
      ],
      "execution_count": 70,
      "outputs": [
        {
          "output_type": "stream",
          "text": [
            "From: sd345@city.ac.uk (Michael Collier)\n",
            "Subject: Converting images to HP LaserJet III?\n",
            "Nntp-Posting-Host: hampton\n"
          ],
          "name": "stdout"
        }
      ]
    },
    {
      "cell_type": "code",
      "metadata": {
        "colab": {
          "base_uri": "https://localhost:8080/"
        },
        "id": "TJqepwI8Y2zt",
        "outputId": "658a9487-5f0c-4938-a770-69902fcb5751"
      },
      "source": [
        "print(twenty_train.target_names[twenty_train.target[0]])"
      ],
      "execution_count": 71,
      "outputs": [
        {
          "output_type": "stream",
          "text": [
            "comp.graphics\n"
          ],
          "name": "stdout"
        }
      ]
    },
    {
      "cell_type": "code",
      "metadata": {
        "colab": {
          "base_uri": "https://localhost:8080/"
        },
        "id": "kRMgS7TWY69K",
        "outputId": "db9ae568-5d78-49be-bbcb-91a5094c44d2"
      },
      "source": [
        "twenty_train.target[:10]"
      ],
      "execution_count": 72,
      "outputs": [
        {
          "output_type": "execute_result",
          "data": {
            "text/plain": [
              "array([1, 1, 3, 3, 3, 3, 3, 2, 2, 2])"
            ]
          },
          "metadata": {
            "tags": []
          },
          "execution_count": 72
        }
      ]
    },
    {
      "cell_type": "code",
      "metadata": {
        "colab": {
          "base_uri": "https://localhost:8080/"
        },
        "id": "iamdKvC0Y9cz",
        "outputId": "54557b03-2a00-4e79-acfa-63d4c47c758b"
      },
      "source": [
        "for t in twenty_train.target[:10]:\r\n",
        "...     print(twenty_train.target_names[t])"
      ],
      "execution_count": 73,
      "outputs": [
        {
          "output_type": "stream",
          "text": [
            "comp.graphics\n",
            "comp.graphics\n",
            "soc.religion.christian\n",
            "soc.religion.christian\n",
            "soc.religion.christian\n",
            "soc.religion.christian\n",
            "soc.religion.christian\n",
            "sci.med\n",
            "sci.med\n",
            "sci.med\n"
          ],
          "name": "stdout"
        }
      ]
    },
    {
      "cell_type": "code",
      "metadata": {
        "colab": {
          "base_uri": "https://localhost:8080/"
        },
        "id": "3U1t2TrIZAdo",
        "outputId": "df06f1b8-6b98-4c79-8769-621b39aaa384"
      },
      "source": [
        "from sklearn.feature_extraction.text import CountVectorizer\r\n",
        "count_vect = CountVectorizer()\r\n",
        "X_train_counts = count_vect.fit_transform(twenty_train.data)\r\n",
        "X_train_counts.shape"
      ],
      "execution_count": 74,
      "outputs": [
        {
          "output_type": "execute_result",
          "data": {
            "text/plain": [
              "(2257, 35788)"
            ]
          },
          "metadata": {
            "tags": []
          },
          "execution_count": 74
        }
      ]
    },
    {
      "cell_type": "code",
      "metadata": {
        "colab": {
          "base_uri": "https://localhost:8080/"
        },
        "id": "ckN9ZlNGZIet",
        "outputId": "44ddf9f8-a30e-41c9-d02e-6723a33d3dc1"
      },
      "source": [
        "count_vect.vocabulary_.get(u'algorithm')"
      ],
      "execution_count": 75,
      "outputs": [
        {
          "output_type": "execute_result",
          "data": {
            "text/plain": [
              "4690"
            ]
          },
          "metadata": {
            "tags": []
          },
          "execution_count": 75
        }
      ]
    },
    {
      "cell_type": "code",
      "metadata": {
        "colab": {
          "base_uri": "https://localhost:8080/"
        },
        "id": "RVZy-Y3qZLDv",
        "outputId": "335aeac9-1150-4bd1-dcd8-07c1e01ce03e"
      },
      "source": [
        "from sklearn.feature_extraction.text import TfidfTransformer\r\n",
        "tf_transformer = TfidfTransformer(use_idf=False).fit(X_train_counts)\r\n",
        "X_train_tf = tf_transformer.transform(X_train_counts)\r\n",
        "X_train_tf.shape"
      ],
      "execution_count": 76,
      "outputs": [
        {
          "output_type": "execute_result",
          "data": {
            "text/plain": [
              "(2257, 35788)"
            ]
          },
          "metadata": {
            "tags": []
          },
          "execution_count": 76
        }
      ]
    },
    {
      "cell_type": "code",
      "metadata": {
        "colab": {
          "base_uri": "https://localhost:8080/"
        },
        "id": "DqnnVw-qZSV2",
        "outputId": "9fb54c23-7ecc-421f-b963-28c3b488a21d"
      },
      "source": [
        "tfidf_transformer = TfidfTransformer()\r\n",
        "X_train_tfidf = tfidf_transformer.fit_transform(X_train_counts)\r\n",
        "X_train_tfidf.shape"
      ],
      "execution_count": 78,
      "outputs": [
        {
          "output_type": "execute_result",
          "data": {
            "text/plain": [
              "(2257, 35788)"
            ]
          },
          "metadata": {
            "tags": []
          },
          "execution_count": 78
        }
      ]
    },
    {
      "cell_type": "markdown",
      "metadata": {
        "id": "CG0CC9PDZcSd"
      },
      "source": [
        "# Naive Bayes Classifier"
      ]
    },
    {
      "cell_type": "code",
      "metadata": {
        "id": "ssQ6P6FqZWdm"
      },
      "source": [
        "from sklearn.naive_bayes import MultinomialNB\r\n",
        "clf = MultinomialNB().fit(X_train_tfidf, twenty_train.target)"
      ],
      "execution_count": 79,
      "outputs": []
    },
    {
      "cell_type": "code",
      "metadata": {
        "colab": {
          "base_uri": "https://localhost:8080/"
        },
        "id": "kUzWa-13ZqAC",
        "outputId": "d287bbc4-4300-4fcf-c3bf-41bc2ff659ce"
      },
      "source": [
        "docs_new = ['God is love', 'OpenGL on the GPU is fast']\r\n",
        "X_new_counts = count_vect.transform(docs_new)\r\n",
        "X_new_tfidf = tfidf_transformer.transform(X_new_counts)\r\n",
        "\r\n",
        "predicted = clf.predict(X_new_tfidf)\r\n",
        "\r\n",
        "for doc, category in zip(docs_new, predicted):\r\n",
        "     print('%r => %s' % (doc, twenty_train.target_names[category]))"
      ],
      "execution_count": 81,
      "outputs": [
        {
          "output_type": "stream",
          "text": [
            "'God is love' => soc.religion.christian\n",
            "'OpenGL on the GPU is fast' => comp.graphics\n"
          ],
          "name": "stdout"
        }
      ]
    },
    {
      "cell_type": "code",
      "metadata": {
        "id": "QpBGUwspaN5X"
      },
      "source": [
        "from sklearn.pipeline import Pipeline\r\n",
        "text_clf = Pipeline([('vect', CountVectorizer()),('tfidf', TfidfTransformer()),('clf', MultinomialNB()),])"
      ],
      "execution_count": 83,
      "outputs": []
    },
    {
      "cell_type": "code",
      "metadata": {
        "colab": {
          "base_uri": "https://localhost:8080/"
        },
        "id": "WsbOLqrFab9K",
        "outputId": "822bb830-f0de-4148-fe80-06d3c1b218eb"
      },
      "source": [
        "text_clf.fit(twenty_train.data, twenty_train.target)"
      ],
      "execution_count": 85,
      "outputs": [
        {
          "output_type": "execute_result",
          "data": {
            "text/plain": [
              "Pipeline(memory=None,\n",
              "         steps=[('vect',\n",
              "                 CountVectorizer(analyzer='word', binary=False,\n",
              "                                 decode_error='strict',\n",
              "                                 dtype=<class 'numpy.int64'>, encoding='utf-8',\n",
              "                                 input='content', lowercase=True, max_df=1.0,\n",
              "                                 max_features=None, min_df=1,\n",
              "                                 ngram_range=(1, 1), preprocessor=None,\n",
              "                                 stop_words=None, strip_accents=None,\n",
              "                                 token_pattern='(?u)\\\\b\\\\w\\\\w+\\\\b',\n",
              "                                 tokenizer=None, vocabulary=None)),\n",
              "                ('tfidf',\n",
              "                 TfidfTransformer(norm='l2', smooth_idf=True,\n",
              "                                  sublinear_tf=False, use_idf=True)),\n",
              "                ('clf',\n",
              "                 MultinomialNB(alpha=1.0, class_prior=None, fit_prior=True))],\n",
              "         verbose=False)"
            ]
          },
          "metadata": {
            "tags": []
          },
          "execution_count": 85
        }
      ]
    },
    {
      "cell_type": "code",
      "metadata": {
        "colab": {
          "base_uri": "https://localhost:8080/"
        },
        "id": "9sj8fZWLZtlj",
        "outputId": "670ce491-10eb-47c0-8894-b277f97ba169"
      },
      "source": [
        "twenty_test = fetch_20newsgroups(subset='test',\r\n",
        "...     categories=categories, shuffle=True, random_state=42)\r\n",
        "docs_test = twenty_test.data\r\n",
        "predicted = text_clf.predict(docs_test)\r\n",
        "np.mean(predicted == twenty_test.target)"
      ],
      "execution_count": 86,
      "outputs": [
        {
          "output_type": "execute_result",
          "data": {
            "text/plain": [
              "0.8348868175765646"
            ]
          },
          "metadata": {
            "tags": []
          },
          "execution_count": 86
        }
      ]
    },
    {
      "cell_type": "code",
      "metadata": {
        "colab": {
          "base_uri": "https://localhost:8080/"
        },
        "id": "PjgSsnqPaGuC",
        "outputId": "09f04653-a65c-4dcb-f245-0ee9f1383dd3"
      },
      "source": [
        "from sklearn.linear_model import SGDClassifier\r\n",
        "text_clf = Pipeline([('vect', CountVectorizer()),('tfidf', TfidfTransformer()),('clf', SGDClassifier(loss='hinge', penalty='l2',alpha=1e-3, random_state=42,max_iter=5, tol=None)),])\r\n",
        "\r\n",
        "text_clf.fit(twenty_train.data, twenty_train.target)\r\n",
        "predicted = text_clf.predict(docs_test)\r\n",
        "np.mean(predicted == twenty_test.target)"
      ],
      "execution_count": 90,
      "outputs": [
        {
          "output_type": "execute_result",
          "data": {
            "text/plain": [
              "0.9101198402130493"
            ]
          },
          "metadata": {
            "tags": []
          },
          "execution_count": 90
        }
      ]
    },
    {
      "cell_type": "code",
      "metadata": {
        "colab": {
          "base_uri": "https://localhost:8080/"
        },
        "id": "xclsGb9DapWh",
        "outputId": "80609f4c-df57-42e0-d5f1-62b94f301a38"
      },
      "source": [
        "from sklearn import metrics\r\n",
        "print(metrics.classification_report(twenty_test.target, predicted,target_names=twenty_test.target_names))"
      ],
      "execution_count": 91,
      "outputs": [
        {
          "output_type": "stream",
          "text": [
            "                        precision    recall  f1-score   support\n",
            "\n",
            "           alt.atheism       0.95      0.80      0.87       319\n",
            "         comp.graphics       0.87      0.98      0.92       389\n",
            "               sci.med       0.94      0.89      0.91       396\n",
            "soc.religion.christian       0.90      0.95      0.93       398\n",
            "\n",
            "              accuracy                           0.91      1502\n",
            "             macro avg       0.91      0.91      0.91      1502\n",
            "          weighted avg       0.91      0.91      0.91      1502\n",
            "\n"
          ],
          "name": "stdout"
        }
      ]
    },
    {
      "cell_type": "code",
      "metadata": {
        "colab": {
          "base_uri": "https://localhost:8080/"
        },
        "id": "PrAzQxbsbCas",
        "outputId": "263a08a8-c889-4d02-f55a-ae3e0018079f"
      },
      "source": [
        "metrics.confusion_matrix(twenty_test.target, predicted)"
      ],
      "execution_count": 92,
      "outputs": [
        {
          "output_type": "execute_result",
          "data": {
            "text/plain": [
              "array([[256,  11,  16,  36],\n",
              "       [  4, 380,   3,   2],\n",
              "       [  5,  35, 353,   3],\n",
              "       [  5,  11,   4, 378]])"
            ]
          },
          "metadata": {
            "tags": []
          },
          "execution_count": 92
        }
      ]
    },
    {
      "cell_type": "code",
      "metadata": {
        "id": "KusoK3pRbGuX"
      },
      "source": [
        "from sklearn.model_selection import GridSearchCV\r\n",
        "parameters = {'vect__ngram_range': [(1, 1), (1, 2)],'tfidf__use_idf': (True, False),'clf__alpha': (1e-2, 1e-3),}"
      ],
      "execution_count": 93,
      "outputs": []
    },
    {
      "cell_type": "code",
      "metadata": {
        "id": "xCWf-_ombTZ6"
      },
      "source": [
        "gs_clf = GridSearchCV(text_clf, parameters, cv=5, n_jobs=-1)"
      ],
      "execution_count": 94,
      "outputs": []
    },
    {
      "cell_type": "code",
      "metadata": {
        "id": "obroppMNbW00"
      },
      "source": [
        "gs_clf = gs_clf.fit(twenty_train.data[:400], twenty_train.target[:400])"
      ],
      "execution_count": 95,
      "outputs": []
    },
    {
      "cell_type": "code",
      "metadata": {
        "colab": {
          "base_uri": "https://localhost:8080/",
          "height": 35
        },
        "id": "MdzAF9qrbZ5O",
        "outputId": "ce6fe0ac-2e8c-429d-c3d8-f5111220db61"
      },
      "source": [
        "twenty_train.target_names[gs_clf.predict(['God is love'])[0]]"
      ],
      "execution_count": 96,
      "outputs": [
        {
          "output_type": "execute_result",
          "data": {
            "application/vnd.google.colaboratory.intrinsic+json": {
              "type": "string"
            },
            "text/plain": [
              "'soc.religion.christian'"
            ]
          },
          "metadata": {
            "tags": []
          },
          "execution_count": 96
        }
      ]
    },
    {
      "cell_type": "markdown",
      "metadata": {
        "id": "ybiCdMxE8JX9"
      },
      "source": [
        "# K means by setting number of clusters as 50."
      ]
    },
    {
      "cell_type": "code",
      "metadata": {
        "colab": {
          "base_uri": "https://localhost:8080/",
          "height": 322
        },
        "id": "GkCi7SbJbhbO",
        "outputId": "7731bc48-211d-41ee-b9e4-27729641d21b"
      },
      "source": [
        "import seaborn as sns\r\n",
        "sns.distplot(dataset.target)\r\n",
        "import matplotlib.pyplot as plt\r\n",
        "plt.show()\r\n",
        "\r\n"
      ],
      "execution_count": 99,
      "outputs": [
        {
          "output_type": "stream",
          "text": [
            "/usr/local/lib/python3.6/dist-packages/seaborn/distributions.py:2551: FutureWarning: `distplot` is a deprecated function and will be removed in a future version. Please adapt your code to use either `displot` (a figure-level function with similar flexibility) or `histplot` (an axes-level function for histograms).\n",
            "  warnings.warn(msg, FutureWarning)\n"
          ],
          "name": "stderr"
        },
        {
          "output_type": "display_data",
          "data": {
            "image/png": "[encoded data removed]",
            "text/plain": [
              "<Figure size 432x288 with 1 Axes>"
            ]
          },
          "metadata": {
            "tags": [],
            "needs_background": "light"
          }
        }
      ]
    },
    {
      "cell_type": "code",
      "metadata": {
        "id": "b5FUadj3cVmQ"
      },
      "source": [
        " import sklearn.datasets"
      ],
      "execution_count": 1,
      "outputs": []
    },
    {
      "cell_type": "code",
      "metadata": {
        "id": "-1xwaA1w5FbG"
      },
      "source": [
        "all_data = sklearn.datasets.fetch_20newsgroups(subset='all')\r\n"
      ],
      "execution_count": 3,
      "outputs": []
    },
    {
      "cell_type": "code",
      "metadata": {
        "colab": {
          "base_uri": "https://localhost:8080/"
        },
        "id": "4Mfpv_K_5O_a",
        "outputId": "9a9c5870-0314-428f-de3c-ff72d6f46e1f"
      },
      "source": [
        "print(len(all_data.filenames))"
      ],
      "execution_count": 4,
      "outputs": [
        {
          "output_type": "stream",
          "text": [
            "18846\n"
          ],
          "name": "stdout"
        }
      ]
    },
    {
      "cell_type": "code",
      "metadata": {
        "colab": {
          "base_uri": "https://localhost:8080/"
        },
        "id": "tKtzHAQH5WIK",
        "outputId": "d8eff0f5-3440-4f0b-9ee7-4af1bd4c8e7f"
      },
      "source": [
        " print(all_data.target_names)"
      ],
      "execution_count": 5,
      "outputs": [
        {
          "output_type": "stream",
          "text": [
            "['alt.atheism', 'comp.graphics', 'comp.os.ms-windows.misc', 'comp.sys.ibm.pc.hardware', 'comp.sys.mac.hardware', 'comp.windows.x', 'misc.forsale', 'rec.autos', 'rec.motorcycles', 'rec.sport.baseball', 'rec.sport.hockey', 'sci.crypt', 'sci.electronics', 'sci.med', 'sci.space', 'soc.religion.christian', 'talk.politics.guns', 'talk.politics.mideast', 'talk.politics.misc', 'talk.religion.misc']\n"
          ],
          "name": "stdout"
        }
      ]
    },
    {
      "cell_type": "code",
      "metadata": {
        "id": "64DeTVki5Zyt"
      },
      "source": [
        " train_data = sklearn.datasets.fetch_20newsgroups(subset='train')"
      ],
      "execution_count": 9,
      "outputs": []
    },
    {
      "cell_type": "code",
      "metadata": {
        "colab": {
          "base_uri": "https://localhost:8080/"
        },
        "id": "PNkIsYfN5fEi",
        "outputId": "3cd712c0-dc11-45f0-8cc5-369340f55116"
      },
      "source": [
        "print(len(train_data.filenames))\r\n"
      ],
      "execution_count": 10,
      "outputs": [
        {
          "output_type": "stream",
          "text": [
            "11314\n"
          ],
          "name": "stdout"
        }
      ]
    },
    {
      "cell_type": "code",
      "metadata": {
        "id": "BUBBokUV5wai"
      },
      "source": [
        " test_data = sklearn.datasets.fetch_20newsgroups(subset='test')\r\n"
      ],
      "execution_count": 11,
      "outputs": []
    },
    {
      "cell_type": "code",
      "metadata": {
        "colab": {
          "base_uri": "https://localhost:8080/"
        },
        "id": "naz0lGph50su",
        "outputId": "3fbfac73-46f3-4322-b6b1-d51a1cba5583"
      },
      "source": [
        "print(len(test_data.filenames))"
      ],
      "execution_count": 12,
      "outputs": [
        {
          "output_type": "stream",
          "text": [
            "7532\n"
          ],
          "name": "stdout"
        }
      ]
    },
    {
      "cell_type": "code",
      "metadata": {
        "id": "sbsPEEVl53Vb"
      },
      "source": [
        "groups = ['comp.graphics', 'comp.os.ms-windows.misc',\r\n",
        "'comp.sys.ibm.pc.hardware', 'comp.sys.mac.hardware',\r\n",
        "'comp.windows.x', 'sci.space']"
      ],
      "execution_count": 13,
      "outputs": []
    },
    {
      "cell_type": "code",
      "metadata": {
        "id": "pNS_-9Hb566c"
      },
      "source": [
        " train_data = sklearn.datasets.fetch_20newsgroups(subset='train',\r\n",
        "categories=groups)"
      ],
      "execution_count": 14,
      "outputs": []
    },
    {
      "cell_type": "code",
      "metadata": {
        "colab": {
          "base_uri": "https://localhost:8080/"
        },
        "id": "jUl4WUGB592f",
        "outputId": "0a066031-4cc7-4e89-f0f8-384d05fa767c"
      },
      "source": [
        " print(len(train_data.filenames))"
      ],
      "execution_count": 15,
      "outputs": [
        {
          "output_type": "stream",
          "text": [
            "3529\n"
          ],
          "name": "stdout"
        }
      ]
    },
    {
      "cell_type": "code",
      "metadata": {
        "id": "DYSPLYKy6APz"
      },
      "source": [
        " test_data = sklearn.datasets.fetch_20newsgroups(subset='test',\r\n",
        "categories=groups)"
      ],
      "execution_count": 16,
      "outputs": []
    },
    {
      "cell_type": "code",
      "metadata": {
        "colab": {
          "base_uri": "https://localhost:8080/"
        },
        "id": "0rWeajMj6DHl",
        "outputId": "aadec155-f499-401e-8022-fb18f47a5f9b"
      },
      "source": [
        "print(len(test_data.filenames))"
      ],
      "execution_count": 17,
      "outputs": [
        {
          "output_type": "stream",
          "text": [
            "2349\n"
          ],
          "name": "stdout"
        }
      ]
    },
    {
      "cell_type": "code",
      "metadata": {
        "id": "VMLYMjlV6VHM"
      },
      "source": [
        "from sklearn.feature_extraction.text import TfidfVectorizer"
      ],
      "execution_count": 20,
      "outputs": []
    },
    {
      "cell_type": "code",
      "metadata": {
        "id": "8dyR4sCf6FgM"
      },
      "source": [
        "vectorizer = TfidfVectorizer(min_df=10, max_df=0.5,stop_words='english', decode_error='ignore')"
      ],
      "execution_count": 21,
      "outputs": []
    },
    {
      "cell_type": "code",
      "metadata": {
        "id": "5f3621EU6Jzh"
      },
      "source": [
        "vectorized = vectorizer.fit_transform(train_data.data)"
      ],
      "execution_count": 22,
      "outputs": []
    },
    {
      "cell_type": "code",
      "metadata": {
        "id": "e-1C4Xm77ExM"
      },
      "source": [
        "num_samples, num_features = vectorized.shape"
      ],
      "execution_count": 23,
      "outputs": []
    },
    {
      "cell_type": "code",
      "metadata": {
        "colab": {
          "base_uri": "https://localhost:8080/"
        },
        "id": "11cStfPT7H9R",
        "outputId": "7e059437-7538-408c-f5a5-1fffec78717f"
      },
      "source": [
        " print(\"#samples: %d, #features: %d\" % (num_samples,\r\n",
        "num_features))"
      ],
      "execution_count": 24,
      "outputs": [
        {
          "output_type": "stream",
          "text": [
            "#samples: 3529, #features: 5651\n"
          ],
          "name": "stdout"
        }
      ]
    },
    {
      "cell_type": "code",
      "metadata": {
        "id": "rSpgznFf7LUf"
      },
      "source": [
        " num_clusters = 50"
      ],
      "execution_count": 25,
      "outputs": []
    },
    {
      "cell_type": "code",
      "metadata": {
        "id": "4FbHX8_l7Q01"
      },
      "source": [
        " from sklearn.cluster import KMeans"
      ],
      "execution_count": 26,
      "outputs": []
    },
    {
      "cell_type": "code",
      "metadata": {
        "id": "r71mSkeX7TLX"
      },
      "source": [
        "km = KMeans(n_clusters=num_clusters, init='random', n_init=1,\r\n",
        "verbose=1, random_state=3)"
      ],
      "execution_count": 27,
      "outputs": []
    },
    {
      "cell_type": "code",
      "metadata": {
        "colab": {
          "base_uri": "https://localhost:8080/"
        },
        "id": "hG72DRGi7Vxl",
        "outputId": "a6a805aa-844d-4ac3-b353-ca4fb4db123d"
      },
      "source": [
        " km.fit(vectorized)"
      ],
      "execution_count": 28,
      "outputs": [
        {
          "output_type": "stream",
          "text": [
            "Initialization complete\n",
            "Iteration  0, inertia 6000.054\n",
            "Iteration  1, inertia 3239.814\n",
            "Iteration  2, inertia 3203.517\n",
            "Iteration  3, inertia 3184.091\n",
            "Iteration  4, inertia 3174.934\n",
            "Iteration  5, inertia 3168.886\n",
            "Iteration  6, inertia 3162.436\n",
            "Iteration  7, inertia 3156.292\n",
            "Iteration  8, inertia 3152.353\n",
            "Iteration  9, inertia 3149.592\n",
            "Iteration 10, inertia 3147.039\n",
            "Iteration 11, inertia 3145.005\n",
            "Iteration 12, inertia 3144.188\n",
            "Iteration 13, inertia 3143.711\n",
            "Iteration 14, inertia 3143.517\n",
            "Iteration 15, inertia 3143.416\n",
            "Iteration 16, inertia 3143.313\n",
            "Iteration 17, inertia 3143.261\n",
            "Iteration 18, inertia 3143.209\n",
            "Converged at iteration 18: center shift 0.000000e+00 within tolerance 1.731605e-08\n"
          ],
          "name": "stdout"
        },
        {
          "output_type": "execute_result",
          "data": {
            "text/plain": [
              "KMeans(algorithm='auto', copy_x=True, init='random', max_iter=300,\n",
              "       n_clusters=50, n_init=1, n_jobs=None, precompute_distances='auto',\n",
              "       random_state=3, tol=0.0001, verbose=1)"
            ]
          },
          "metadata": {
            "tags": []
          },
          "execution_count": 28
        }
      ]
    },
    {
      "cell_type": "code",
      "metadata": {
        "colab": {
          "base_uri": "https://localhost:8080/"
        },
        "id": "3Ufk4lVx7YYg",
        "outputId": "a28d505a-7170-4fe4-b181-eba252b18453"
      },
      "source": [
        "print(km.labels_)\r\n"
      ],
      "execution_count": 29,
      "outputs": [
        {
          "output_type": "stream",
          "text": [
            "[26 26 25 ... 42  9  8]\n"
          ],
          "name": "stdout"
        }
      ]
    },
    {
      "cell_type": "code",
      "metadata": {
        "colab": {
          "base_uri": "https://localhost:8080/"
        },
        "id": "GYgJlYWV7gAf",
        "outputId": "7b8f2f3c-5cf2-44e4-e5ea-4da91237bd99"
      },
      "source": [
        "print(km.labels_.shape)"
      ],
      "execution_count": 30,
      "outputs": [
        {
          "output_type": "stream",
          "text": [
            "(3529,)\n"
          ],
          "name": "stdout"
        }
      ]
    },
    {
      "cell_type": "code",
      "metadata": {
        "colab": {
          "base_uri": "https://localhost:8080/"
        },
        "id": "Ywr3fxmZ7iXL",
        "outputId": "01aa5aad-a2e5-4b87-f063-85613d3c2439"
      },
      "source": [
        " km.cluster_centers_"
      ],
      "execution_count": 31,
      "outputs": [
        {
          "output_type": "execute_result",
          "data": {
            "text/plain": [
              "array([[0.00000000e+00, 2.19805678e-03, 0.00000000e+00, ...,\n",
              "        0.00000000e+00, 0.00000000e+00, 0.00000000e+00],\n",
              "       [0.00000000e+00, 0.00000000e+00, 1.24019719e-03, ...,\n",
              "        0.00000000e+00, 0.00000000e+00, 0.00000000e+00],\n",
              "       [5.79776027e-03, 8.11786416e-03, 8.92929632e-04, ...,\n",
              "        0.00000000e+00, 0.00000000e+00, 0.00000000e+00],\n",
              "       ...,\n",
              "       [0.00000000e+00, 0.00000000e+00, 0.00000000e+00, ...,\n",
              "        0.00000000e+00, 7.82080056e-05, 0.00000000e+00],\n",
              "       [5.42960959e-04, 0.00000000e+00, 2.38374343e-03, ...,\n",
              "        0.00000000e+00, 0.00000000e+00, 0.00000000e+00],\n",
              "       [0.00000000e+00, 9.56288136e-04, 0.00000000e+00, ...,\n",
              "        0.00000000e+00, 0.00000000e+00, 0.00000000e+00]])"
            ]
          },
          "metadata": {
            "tags": []
          },
          "execution_count": 31
        }
      ]
    },
    {
      "cell_type": "markdown",
      "metadata": {
        "id": "y2Vee4cJ802V"
      },
      "source": [
        "# PCA on 20 newsgroups data"
      ]
    },
    {
      "cell_type": "code",
      "metadata": {
        "colab": {
          "base_uri": "https://localhost:8080/"
        },
        "id": "07qY-sKE84kx",
        "outputId": "ed4dab38-8e73-42c1-86a5-4ea397a65bf5"
      },
      "source": [
        "from sklearn.datasets import fetch_20newsgroups\r\n",
        "\r\n",
        "news = fetch_20newsgroups(shuffle=True, random_state=777, remove=('headers', 'footers', 'quotes'))\r\n",
        "print('-'*20 + '20 Newsgroups data class' + '-'*20)\r\n",
        "print(news.target_names)\r\n",
        "print('-'*20 + '20 Newsgroups data sample' + '-'*20)\r\n",
        "print(news.data[0])"
      ],
      "execution_count": 32,
      "outputs": [
        {
          "output_type": "stream",
          "text": [
            "--------------------20 Newsgroups data class--------------------\n",
            "['alt.atheism', 'comp.graphics', 'comp.os.ms-windows.misc', 'comp.sys.ibm.pc.hardware', 'comp.sys.mac.hardware', 'comp.windows.x', 'misc.forsale', 'rec.autos', 'rec.motorcycles', 'rec.sport.baseball', 'rec.sport.hockey', 'sci.crypt', 'sci.electronics', 'sci.med', 'sci.space', 'soc.religion.christian', 'talk.politics.guns', 'talk.politics.mideast', 'talk.politics.misc', 'talk.religion.misc']\n",
            "--------------------20 Newsgroups data sample--------------------\n",
            "\n",
            "\n",
            "And I recommend the movie _The Thin Blue Line_, which is about the\n",
            "same case.  Not as much legal detail, but still an excellent film.  It\n",
            "shows how very easy it is to come up with seemingly conclusive\n",
            "evidence against someone whom you think is guilty.\n"
          ],
          "name": "stdout"
        }
      ]
    },
    {
      "cell_type": "code",
      "metadata": {
        "id": "WhhKU9U58_nY"
      },
      "source": [
        "from sklearn.feature_extraction.text import TfidfVectorizer\r\n",
        "\r\n",
        "data_samples = news.data[:1000]\r\n",
        "data_target = news.target[:1000]\r\n",
        "data_class = news.target_names\r\n",
        "tfidf_vectorizer = TfidfVectorizer(max_df=0.95, min_df=2, max_features=100, stop_words='english')\r\n",
        "TFIDF = tfidf_vectorizer.fit_transform(data_samples)"
      ],
      "execution_count": 34,
      "outputs": []
    },
    {
      "cell_type": "code",
      "metadata": {
        "colab": {
          "base_uri": "https://localhost:8080/"
        },
        "id": "rn-8PriZ9HGQ",
        "outputId": "f550b909-86ab-4904-90a7-90c6a398338a"
      },
      "source": [
        "print(TFIDF.toarray()[0:2])\r\n"
      ],
      "execution_count": 35,
      "outputs": [
        {
          "output_type": "stream",
          "text": [
            "[[0.         0.         0.         0.         0.         0.\n",
            "  0.         0.         0.         0.61061632 0.         0.\n",
            "  0.61941575 0.         0.         0.         0.         0.\n",
            "  0.         0.         0.         0.         0.         0.\n",
            "  0.         0.         0.         0.         0.         0.\n",
            "  0.         0.         0.         0.         0.         0.\n",
            "  0.         0.         0.         0.         0.         0.\n",
            "  0.         0.         0.         0.         0.         0.\n",
            "  0.         0.         0.         0.         0.         0.\n",
            "  0.         0.         0.         0.         0.         0.\n",
            "  0.         0.         0.         0.         0.         0.\n",
            "  0.         0.         0.         0.         0.         0.\n",
            "  0.         0.         0.         0.         0.         0.\n",
            "  0.         0.         0.         0.         0.         0.\n",
            "  0.49342866 0.         0.         0.         0.         0.\n",
            "  0.         0.         0.         0.         0.         0.\n",
            "  0.         0.         0.         0.        ]\n",
            " [0.         0.         0.         0.         0.         0.\n",
            "  0.34064892 0.         0.         0.         0.77129062 0.\n",
            "  0.         0.         0.         0.         0.         0.\n",
            "  0.         0.         0.         0.         0.         0.\n",
            "  0.         0.         0.         0.         0.         0.\n",
            "  0.         0.         0.         0.         0.         0.\n",
            "  0.         0.31703364 0.         0.         0.         0.\n",
            "  0.         0.         0.         0.         0.         0.\n",
            "  0.         0.         0.         0.         0.32037793 0.\n",
            "  0.         0.         0.         0.         0.         0.\n",
            "  0.         0.         0.         0.         0.         0.\n",
            "  0.         0.         0.         0.         0.         0.\n",
            "  0.         0.         0.         0.         0.         0.\n",
            "  0.         0.         0.         0.29311558 0.         0.\n",
            "  0.         0.         0.         0.         0.         0.\n",
            "  0.         0.         0.         0.         0.         0.\n",
            "  0.         0.         0.         0.        ]]\n"
          ],
          "name": "stdout"
        }
      ]
    },
    {
      "cell_type": "code",
      "metadata": {
        "colab": {
          "base_uri": "https://localhost:8080/"
        },
        "id": "4d7Jhdhv9MQU",
        "outputId": "fd556231-bea9-44be-b20e-44d1310d4ced"
      },
      "source": [
        "from sklearn.decomposition import PCA\r\n",
        "\r\n",
        "pca = PCA(n_components=2)\r\n",
        "\r\n",
        "pca.fit(TFIDF.toarray())\r\n",
        "print('-'*20 + 'Explained variance ratio' + '-'*20)\r\n",
        "print(pca.explained_variance_ratio_)\r\n",
        "print('-'*20 + 'Singular value' + '-'*20)\r\n",
        "print(pca.singular_values_)"
      ],
      "execution_count": 36,
      "outputs": [
        {
          "output_type": "stream",
          "text": [
            "--------------------Explained variance ratio--------------------\n",
            "[0.03153817 0.02615842]\n",
            "--------------------Singular value--------------------\n",
            "[5.18520003 4.7222934 ]\n"
          ],
          "name": "stdout"
        }
      ]
    },
    {
      "cell_type": "code",
      "metadata": {
        "colab": {
          "base_uri": "https://localhost:8080/",
          "height": 609
        },
        "id": "SwJP7HPP9QjI",
        "outputId": "3c572a1b-fa9b-43ad-87f5-16045a06a823"
      },
      "source": [
        "import matplotlib.cm as cm\r\n",
        "import numpy as np\r\n",
        "\r\n",
        "PCA_TFIDF = pca.transform(TFIDF.toarray())\r\n",
        "print(PCA_TFIDF.shape)\r\n",
        "\r\n",
        "plt.figure(figsize=(10,10))\r\n",
        "plt.scatter(PCA_TFIDF[:,0], PCA_TFIDF[:,1], c=data_target)\r\n",
        "plt.show()"
      ],
      "execution_count": 39,
      "outputs": [
        {
          "output_type": "stream",
          "text": [
            "(1000, 2)\n"
          ],
          "name": "stdout"
        },
        {
          "output_type": "display_data",
          "data": {
            "image/png": "[encoded data removed]",
            "text/plain": [
              "<Figure size 720x720 with 1 Axes>"
            ]
          },
          "metadata": {
            "tags": [],
            "needs_background": "light"
          }
        }
      ]
    },
    {
      "cell_type": "code",
      "metadata": {
        "id": "JkXFoexo9b5H"
      },
      "source": [
        ""
      ],
      "execution_count": null,
      "outputs": []
    }
  ]
}